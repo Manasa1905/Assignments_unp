{
  "nbformat": 4,
  "nbformat_minor": 0,
  "metadata": {
    "colab": {
      "name": "studentpr.ipynb",
      "provenance": [],
      "authorship_tag": "ABX9TyNqFBkwKxknRtwRLII2caaZ",
      "include_colab_link": true
    },
    "kernelspec": {
      "name": "python3",
      "display_name": "Python 3"
    },
    "language_info": {
      "name": "python"
    }
  },
  "cells": [
    {
      "cell_type": "markdown",
      "metadata": {
        "id": "view-in-github",
        "colab_type": "text"
      },
      "source": [
        "<a href=\"https://colab.research.google.com/github/Manasa1905/Assignments_unp/blob/main/studentpr.ipynb\" target=\"_parent\"><img src=\"https://colab.research.google.com/assets/colab-badge.svg\" alt=\"Open In Colab\"/></a>"
      ]
    },
    {
      "cell_type": "code",
      "execution_count": 1,
      "metadata": {
        "id": "iJASjCb9R1U_"
      },
      "outputs": [],
      "source": [
        "import numpy as np\n",
        "import pandas as pd\n",
        "import matplotlib.pyplot as plt\n",
        "import seaborn as sns"
      ]
    },
    {
      "cell_type": "code",
      "source": [
        "df=pd.read_csv(\"/content/student-mat.csv\",sep=';')\n",
        "df.head()"
      ],
      "metadata": {
        "id": "knK6E17BSCH3"
      },
      "execution_count": null,
      "outputs": []
    },
    {
      "cell_type": "code",
      "source": [
        ""
      ],
      "metadata": {
        "id": "Yp5rQaedTtja"
      },
      "execution_count": null,
      "outputs": []
    },
    {
      "cell_type": "code",
      "source": [
        "df.isna().sum()"
      ],
      "metadata": {
        "id": "c2d0NE34SIWg"
      },
      "execution_count": null,
      "outputs": []
    },
    {
      "cell_type": "code",
      "source": [
        "df.iloc[:,32]\n",
        "for i in range(df.shape[1]):\n",
        "  print(df.iloc[:,i].unique())\n",
        "  print(df.iloc[:,i].value_counts())"
      ],
      "metadata": {
        "id": "wwKzhZWoSPDO"
      },
      "execution_count": null,
      "outputs": []
    },
    {
      "cell_type": "code",
      "source": [
        "plt.rcParams[\"figure.figsize\"] = [13.50, 8.50]\n",
        "out=sns.boxplot(data=df)"
      ],
      "metadata": {
        "id": "0-tEY6ItSTOZ"
      },
      "execution_count": null,
      "outputs": []
    },
    {
      "cell_type": "code",
      "source": [
        "for x in ['age']:\n",
        "    q75,q25 = np.percentile(df.loc[:,x],[75,25])\n",
        "    intr_qr = q75-q25\n",
        " \n",
        "    max = q75+(2.5*intr_qr)\n",
        "    min = q25-(2.5*intr_qr)\n",
        " \n",
        "    df.loc[df[x] < min,x] = np.nan\n",
        "    df.loc[df[x] > max,x] = np.nan\n",
        "    "
      ],
      "metadata": {
        "id": "wC4G5MjzSW6u"
      },
      "execution_count": 7,
      "outputs": []
    },
    {
      "cell_type": "code",
      "source": [
        "for x in ['Fedu','traveltime','studytime','famrel','freetime','Dalc','absences','G2','G3']:\n",
        "    q75,q25 = np.percentile(df.loc[:,x],[75,25])\n",
        "    intr_qr = q75-q25\n",
        " \n",
        "    max = q75+(1.5*intr_qr)\n",
        "    min = q25-(1.5*intr_qr)\n",
        "\n",
        "    df.loc[df[x] < min,x] = np.nan\n",
        "    df.loc[df[x] > max,x] = np.nan\n",
        "    \n"
      ],
      "metadata": {
        "id": "UfLnXkCvSZEZ"
      },
      "execution_count": 9,
      "outputs": []
    },
    {
      "cell_type": "code",
      "source": [
        "df.dropna(inplace=True)"
      ],
      "metadata": {
        "id": "oVl65SJiSc9k"
      },
      "execution_count": 10,
      "outputs": []
    },
    {
      "cell_type": "code",
      "source": [
        "df.iloc[:,32]\n",
        "for i in range(df.shape[1]):\n",
        "  print(df.iloc[:,i].unique())\n",
        "  print(df.iloc[:,i].value_counts())"
      ],
      "metadata": {
        "id": "0KzlG91fSiLY"
      },
      "execution_count": null,
      "outputs": []
    },
    {
      "cell_type": "code",
      "source": [
        "categorical = [  'freetime', 'goout', 'Dalc', 'Walc','health']"
      ],
      "metadata": {
        "id": "Wj2fH7s_SohK"
      },
      "execution_count": 13,
      "outputs": []
    },
    {
      "cell_type": "markdown",
      "source": [
        "Piechart"
      ],
      "metadata": {
        "id": "os0oH9PIUPuk"
      }
    },
    {
      "cell_type": "code",
      "source": [
        "for i in range(len(categorical)):\n",
        "    print(categorical[i])\n",
        "    df[categorical[i]].value_counts().plot(kind='pie', autopct=\"%.2f\")\n",
        "    plt.show()"
      ],
      "metadata": {
        "id": "Ie96tLoYT80j"
      },
      "execution_count": null,
      "outputs": []
    },
    {
      "cell_type": "markdown",
      "source": [
        "barchart"
      ],
      "metadata": {
        "id": "vRz2ST5tUdMZ"
      }
    },
    {
      "cell_type": "code",
      "source": [
        "df.sex.value_counts().plot(kind='bar')"
      ],
      "metadata": {
        "id": "IVmgtJIuVOwJ"
      },
      "execution_count": null,
      "outputs": []
    },
    {
      "cell_type": "code",
      "source": [
        "df.famrel.value_counts().plot(kind='bar')"
      ],
      "metadata": {
        "id": "MRaitzRQUN9Z"
      },
      "execution_count": null,
      "outputs": []
    },
    {
      "cell_type": "code",
      "source": [
        "df.school.value_counts().plot(kind='bar')"
      ],
      "metadata": {
        "id": "4sQsQq4qUfO5"
      },
      "execution_count": null,
      "outputs": []
    },
    {
      "cell_type": "code",
      "source": [
        "df.romantic.value_counts().plot(kind='bar')"
      ],
      "metadata": {
        "id": "0R7CtRMrUmj3"
      },
      "execution_count": null,
      "outputs": []
    },
    {
      "cell_type": "code",
      "source": [
        "fig_dims = (12,7)\n",
        "fig, ax = plt.subplots(figsize=fig_dims)\n",
        "sns.histplot(data=df[['G3']],ax=ax)\n",
        "plt.show()"
      ],
      "metadata": {
        "id": "t2slKZ57XTgn"
      },
      "execution_count": null,
      "outputs": []
    },
    {
      "cell_type": "code",
      "source": [
        "df.drop(['G1','G2','sex','address','famsize','Pstatus','schoolsup','famsup','paid','activities','nursery','higher','internet','romantic'],axis=1,inplace=True)\n"
      ],
      "metadata": {
        "id": "FBzFsblHXrR5"
      },
      "execution_count": 37,
      "outputs": []
    },
    {
      "cell_type": "code",
      "source": [
        "df.head()"
      ],
      "metadata": {
        "id": "E10ur5ZaYiik"
      },
      "execution_count": null,
      "outputs": []
    },
    {
      "cell_type": "code",
      "source": [
        "plt.figure(figsize=(15,8))\n",
        "sns.heatmap(df.corr(),annot=True)"
      ],
      "metadata": {
        "id": "XrRnxRuBYzX4"
      },
      "execution_count": null,
      "outputs": []
    }
  ]
}