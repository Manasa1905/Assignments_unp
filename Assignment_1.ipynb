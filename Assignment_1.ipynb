{
  "nbformat": 4,
  "nbformat_minor": 0,
  "metadata": {
    "colab": {
      "name": "Assignment-1.ipynb",
      "provenance": [],
      "collapsed_sections": [],
      "include_colab_link": true
    },
    "kernelspec": {
      "name": "python3",
      "display_name": "Python 3"
    },
    "language_info": {
      "name": "python"
    }
  },
  "cells": [
    {
      "cell_type": "markdown",
      "metadata": {
        "id": "view-in-github",
        "colab_type": "text"
      },
      "source": [
        "<a href=\"https://colab.research.google.com/github/Manasa1905/Assignments_unp/blob/main/Assignment_1.ipynb\" target=\"_parent\"><img src=\"https://colab.research.google.com/assets/colab-badge.svg\" alt=\"Open In Colab\"/></a>"
      ]
    },
    {
      "cell_type": "markdown",
      "source": [
        "Let's solve a few problems to sharpen your coding skill.<br>\n",
        "You can code in the cell following the problem statement."
      ],
      "metadata": {
        "id": "hmYrhduIsDBK"
      }
    },
    {
      "cell_type": "markdown",
      "source": [
        "**Problem-1**<br>\n",
        "Your friend measures his body temperature using a thermometer and finds the<br> reading to be 100 degree Farenheit. Can you please let us know the reading in Celsius scale?"
      ],
      "metadata": {
        "id": "VH4pr19psa3T"
      }
    },
    {
      "cell_type": "code",
      "source": [
        "t=100\n",
        "c=(5/9)*(t-32)\n",
        "print(c)"
      ],
      "metadata": {
        "id": "r2yJkjp6tmXW",
        "colab": {
          "base_uri": "https://localhost:8080/"
        },
        "outputId": "6a536759-efda-4d52-fd76-d98eb34a67d7"
      },
      "execution_count": null,
      "outputs": [
        {
          "output_type": "stream",
          "name": "stdout",
          "text": [
            "37.77777777777778\n"
          ]
        }
      ]
    },
    {
      "cell_type": "markdown",
      "source": [
        "**Problem-2**<br>\n",
        "The cost of producing x unit of item in a factory is y. Cost y is related<br> to unit x by the following formula <br>\n",
        "y= a*x^2+b*x+c where<br>\n",
        "a, b, c are constants having value 2, 5, 1020 respectively.<br>\n",
        "In this text (not in python language) ^ represents raised to the power.<br>\n",
        "If management wants to produce 10,000 quantities of product, please let us know<br> the average manufacturing cost for a single item.\n"
      ],
      "metadata": {
        "id": "1BuMZENotxDK"
      }
    },
    {
      "cell_type": "code",
      "source": [
        "a=2\n",
        "b=5\n",
        "c=1020\n",
        "x=10000\n",
        "y=(a*x)**2+b*x+c\n",
        "avg=(y/10000)\n",
        "print(avg)"
      ],
      "metadata": {
        "id": "ujMqe7d5xcv7",
        "colab": {
          "base_uri": "https://localhost:8080/"
        },
        "outputId": "9bb25c0d-e3c4-4354-e103-951b805e3085"
      },
      "execution_count": null,
      "outputs": [
        {
          "output_type": "stream",
          "name": "stdout",
          "text": [
            "40005.102\n"
          ]
        }
      ]
    }
  ]
}